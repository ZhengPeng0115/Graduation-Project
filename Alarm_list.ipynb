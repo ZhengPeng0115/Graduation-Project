{
 "cells": [
  {
   "cell_type": "code",
   "execution_count": 35,
   "metadata": {},
   "outputs": [],
   "source": [
    "import pandas as pd\n",
    "import numpy as np\n",
    "import os\n",
    "from Alarm_data_visualization import getfiles\n",
    "from Alarm_analysis_monitor_endBased import catagery\n",
    "basepath = os.getcwd()\n",
    "filepath = os.path.abspath(os.path.join(basepath, \"..\", \"Processed\",'Numeric alarms_endBased'))"
   ]
  },
  {
   "cell_type": "code",
   "execution_count": 36,
   "metadata": {},
   "outputs": [],
   "source": [
    "yellow_to_red,yellow,red,yellow_to_Desat,yellow_to_Brady,alarm=getfiles('All alarms_startBased')\n",
    "yellow['Catagery']=catagery(yellow['Label'],'yellow')\n",
    "red['Catagery']=catagery(red['Label'],'red')"
   ]
  },
  {
   "cell_type": "code",
   "execution_count": 37,
   "metadata": {},
   "outputs": [],
   "source": [
    "yellowlist=pd.DataFrame({'Yellow alarm':list(set(yellow.Catagery))})\n",
    "redlist=pd.DataFrame({'Red alarm':list(set(red.Catagery))})\n",
    "alarmlist=pd.concat([yellowlist,redlist], axis=1)\n",
    "alarmlist.to_csv(filepath+'/Alarm_list.csv')"
   ]
  },
  {
   "cell_type": "code",
   "execution_count": null,
   "metadata": {},
   "outputs": [],
   "source": []
  },
  {
   "cell_type": "code",
   "execution_count": null,
   "metadata": {},
   "outputs": [],
   "source": []
  },
  {
   "cell_type": "code",
   "execution_count": null,
   "metadata": {},
   "outputs": [],
   "source": []
  },
  {
   "cell_type": "code",
   "execution_count": null,
   "metadata": {
    "collapsed": true
   },
   "outputs": [],
   "source": []
  }
 ],
 "metadata": {
  "kernelspec": {
   "display_name": "Python 3",
   "language": "python",
   "name": "python3"
  },
  "language_info": {
   "codemirror_mode": {
    "name": "ipython",
    "version": 3
   },
   "file_extension": ".py",
   "mimetype": "text/x-python",
   "name": "python",
   "nbconvert_exporter": "python",
   "pygments_lexer": "ipython3",
   "version": "3.6.3"
  }
 },
 "nbformat": 4,
 "nbformat_minor": 2
}
